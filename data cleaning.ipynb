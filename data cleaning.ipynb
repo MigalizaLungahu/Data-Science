{
 "cells": [
  {
   "cell_type": "markdown",
   "metadata": {},
   "source": [
    "# Perception of Cancer"
   ]
  },
  {
   "cell_type": "code",
   "execution_count": 3,
   "metadata": {},
   "outputs": [],
   "source": [
    "#import the required packages \n",
    "import pandas as pd\n",
    "import re\n",
    "import numpy as np\n",
    "import matplotlib.pyplot as plt\n",
    "import glob"
   ]
  },
  {
   "cell_type": "code",
   "execution_count": 27,
   "metadata": {},
   "outputs": [],
   "source": [
    "#specify the pattern of the file\n",
    "pattern = \"*.csv\"\n",
    "\n",
    "#search for all the files \n",
    "csv_files = glob.glob(pattern)\n",
    "\n",
    "#loop through the files to read all the files and append them on a list\n",
    "df = []\n",
    "\n",
    "for file in csv_files:\n",
    "    csv_file = pd.read_csv(file)\n",
    "    df.append(csv_file)\n",
    "\n",
    "#concatenate the all the files read ignore the index and drop the second column\n",
    "df_record = pd.concat(df, ignore_index=False).reset_index(drop=True).drop(\"Unnamed: 0\", axis=1)\n",
    "\n",
    "# Remove all tweets without location indicated\n",
    "df_record = df_record.dropna().reset_index(drop = True)\n",
    "\n",
    "# write a regular expresion to capture all the urls and save them to a different column\n",
    "re_pattern = re.compile(\"http[s]?://(?:[a-zA-Z]|[0-9]|[$-_@.&+]|[!*\\(\\),]|(?:%[0-9a-fA-F][0-9a-fA-F]))+'\")\n",
    "\n",
    "#print(\"Original string: \",text)"
   ]
  },
  {
   "cell_type": "code",
   "execution_count": 26,
   "metadata": {},
   "outputs": [
    {
     "name": "stdout",
     "output_type": "stream",
     "text": [
      "<class 'pandas.core.frame.DataFrame'>\n",
      "RangeIndex: 106116 entries, 0 to 106115\n",
      "Data columns (total 4 columns):\n",
      "User          106116 non-null object\n",
      "Location      106116 non-null object\n",
      "created On    106116 non-null object\n",
      "Tweet         106116 non-null object\n",
      "dtypes: object(4)\n",
      "memory usage: 3.2+ MB\n"
     ]
    },
    {
     "data": {
      "text/html": [
       "<div>\n",
       "<style scoped>\n",
       "    .dataframe tbody tr th:only-of-type {\n",
       "        vertical-align: middle;\n",
       "    }\n",
       "\n",
       "    .dataframe tbody tr th {\n",
       "        vertical-align: top;\n",
       "    }\n",
       "\n",
       "    .dataframe thead th {\n",
       "        text-align: right;\n",
       "    }\n",
       "</style>\n",
       "<table border=\"1\" class=\"dataframe\">\n",
       "  <thead>\n",
       "    <tr style=\"text-align: right;\">\n",
       "      <th></th>\n",
       "      <th>User</th>\n",
       "      <th>Location</th>\n",
       "      <th>created On</th>\n",
       "      <th>Tweet</th>\n",
       "    </tr>\n",
       "  </thead>\n",
       "  <tbody>\n",
       "    <tr>\n",
       "      <th>106111</th>\n",
       "      <td>zimleague</td>\n",
       "      <td>Bulawayo, Zimbabwe</td>\n",
       "      <td>2019-08-17 02:19:28</td>\n",
       "      <td>RT @joeblackzw: ZANU is a cancer https://t.co/...</td>\n",
       "    </tr>\n",
       "    <tr>\n",
       "      <th>106112</th>\n",
       "      <td>aladeenreyes</td>\n",
       "      <td>Arizona, USA</td>\n",
       "      <td>2019-08-17 02:19:24</td>\n",
       "      <td>RT @j_mike01: The juul generation 20 years lat...</td>\n",
       "    </tr>\n",
       "    <tr>\n",
       "      <th>106113</th>\n",
       "      <td>haylee_anne_</td>\n",
       "      <td>Wichita, KS</td>\n",
       "      <td>2019-08-17 02:19:21</td>\n",
       "      <td>RT @j_mike01: The juul generation 20 years lat...</td>\n",
       "    </tr>\n",
       "    <tr>\n",
       "      <th>106114</th>\n",
       "      <td>sriramh83</td>\n",
       "      <td>Bangalore</td>\n",
       "      <td>2019-08-17 02:19:21</td>\n",
       "      <td>RT @kavita_tewari: It shows that no matter how...</td>\n",
       "    </tr>\n",
       "    <tr>\n",
       "      <th>106115</th>\n",
       "      <td>clayforsberg</td>\n",
       "      <td>On the Front Porch</td>\n",
       "      <td>2019-08-17 02:19:21</td>\n",
       "      <td>@FriedbergEric Thanks for this Eric. I only wi...</td>\n",
       "    </tr>\n",
       "  </tbody>\n",
       "</table>\n",
       "</div>"
      ],
      "text/plain": [
       "                User            Location           created On  \\\n",
       "106111     zimleague  Bulawayo, Zimbabwe  2019-08-17 02:19:28   \n",
       "106112  aladeenreyes        Arizona, USA  2019-08-17 02:19:24   \n",
       "106113  haylee_anne_         Wichita, KS  2019-08-17 02:19:21   \n",
       "106114     sriramh83           Bangalore  2019-08-17 02:19:21   \n",
       "106115  clayforsberg  On the Front Porch  2019-08-17 02:19:21   \n",
       "\n",
       "                                                    Tweet  \n",
       "106111  RT @joeblackzw: ZANU is a cancer https://t.co/...  \n",
       "106112  RT @j_mike01: The juul generation 20 years lat...  \n",
       "106113  RT @j_mike01: The juul generation 20 years lat...  \n",
       "106114  RT @kavita_tewari: It shows that no matter how...  \n",
       "106115  @FriedbergEric Thanks for this Eric. I only wi...  "
      ]
     },
     "execution_count": 26,
     "metadata": {},
     "output_type": "execute_result"
    }
   ],
   "source": [
    "#explore the dataframe\n",
    "#print(df_record.shape)\n",
    "#print(df_record.describe)\n",
    "#print(df_record.head())\n",
    "df_record.head()\n",
    "df_record.tail()\n",
    "df_record.info()\n",
    "df_record.tail()"
   ]
  }
 ],
 "metadata": {
  "kernelspec": {
   "display_name": "Python 3",
   "language": "python",
   "name": "python3"
  },
  "language_info": {
   "codemirror_mode": {
    "name": "ipython",
    "version": 3
   },
   "file_extension": ".py",
   "mimetype": "text/x-python",
   "name": "python",
   "nbconvert_exporter": "python",
   "pygments_lexer": "ipython3",
   "version": "3.7.3"
  }
 },
 "nbformat": 4,
 "nbformat_minor": 2
}
