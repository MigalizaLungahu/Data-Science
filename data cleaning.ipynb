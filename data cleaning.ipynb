{
 "cells": [
  {
   "cell_type": "markdown",
   "metadata": {},
   "source": [
    "# Perception of Cancer"
   ]
  },
  {
   "cell_type": "code",
   "execution_count": 50,
   "metadata": {},
   "outputs": [],
   "source": [
    "#import the required packages \n",
    "import pandas as pd\n",
    "import re\n",
    "import numpy as np\n",
    "import matplotlib.pyplot as plt\n",
    "import glob"
   ]
  },
  {
   "cell_type": "code",
   "execution_count": 81,
   "metadata": {},
   "outputs": [
    {
     "name": "stdout",
     "output_type": "stream",
     "text": [
      "C:\\Users\\Migaliza Lung'ahu\\Documents\\Personal Portfolio\\twitter_dataset\\*.csv\n",
      "re.compile(\"http[s]?://(?:[a-zA-Z]|[0-9]|[$-_@.&+]|[!*\\\\(\\\\),]|(?:%[0-9a-fA-F][0-9a-fA-F]))+'\")\n",
      "object\n"
     ]
    }
   ],
   "source": [
    "#specify the pattern of the file\n",
    "pattern = \"C:\\\\Users\\\\Migaliza Lung'ahu\\\\Documents\\\\Personal Portfolio\\\\twitter_dataset\\\\*.csv\"\n",
    "\n",
    "print(pattern)\n",
    "#search for all the files \n",
    "csv_files = glob.glob(pattern, recursive=True)\n",
    "#print(csv_files)\n",
    "\n",
    "#loop through the files to read all the files and append them on a list\n",
    "df = []\n",
    "\n",
    "for file in csv_files:\n",
    "    csv_file = pd.read_csv(file)\n",
    "    df.append(csv_file)\n",
    "\n",
    "#concatenate the all the files read ignore the index and drop the second column\n",
    "df_record = pd.concat(df, ignore_index=False).reset_index(drop=True).drop(\"Unnamed: 0\", axis=1)\n",
    "\n",
    "# Remove all tweets without location indicated\n",
    "df_record = df_record.dropna().reset_index(drop = True)\n",
    "\n",
    "#all the country names with no alphabetical characters should be renamed to unknown\n",
    "#df_record[\"Location\"] = df_record.Location.apply(labmda x: re.replace('[A-Z]\\w*'))\n",
    "\n",
    "# write a regular expresion to capture all the urls and save them to a different column\n",
    "re_pattern = re.compile(\"http[s]?://(?:[a-zA-Z]|[0-9]|[$-_@.&+]|[!*\\(\\),]|(?:%[0-9a-fA-F][0-9a-fA-F]))+'\")\n",
    "\n",
    "print(re_pattern)\n",
    "#print(\"Original string: \",text)\n",
    "df_record['links'] = df_record.Tweet.apply(lambda x: re.findall(\"http[s]?://(?:[a-zA-Z]|[0-9]|[$-_@.&+]|[!*\\(\\),]|(?:%[0-9a-fA-F][0-9a-fA-F]))+\", x))\n",
    "#df_record['links'] = str(type(1))\n",
    "\n",
    "print(df_record[\"links\"].dtypes)\n",
    "#remove the [] from the Links colmns\n",
    "#tips.total_dollar.apply(lambda x: x.replace('$', ''))\n",
    "#df_record[\"links\"] = df_record.links.apply(lambda x: x.replace(\"[,]\",''))\n"
   ]
  },
  {
   "cell_type": "markdown",
   "metadata": {},
   "source": [
    "#### Cleaning process\n",
    "- next steps is to remove peoples names fromt the tweet and only leave the text\n",
    "- find if the text says anything concerning cancer the disease and cancer the star,if contains anything other than cancer the star,\n",
    "- remove that record\n",
    "- remove special characters from the Location\n",
    "- remove special characters from the Tweet\n",
    "- download a list of country code and the countries they represent, then use that to assign the names to the \n"
   ]
  },
  {
   "cell_type": "code",
   "execution_count": 78,
   "metadata": {},
   "outputs": [
    {
     "name": "stdout",
     "output_type": "stream",
     "text": [
      "<class 'pandas.core.frame.DataFrame'>\n",
      "RangeIndex: 77181 entries, 0 to 77180\n",
      "Data columns (total 5 columns):\n",
      "User          77181 non-null object\n",
      "Location      77181 non-null object\n",
      "created On    77181 non-null object\n",
      "Tweet         77181 non-null object\n",
      "links         77181 non-null object\n",
      "dtypes: object(5)\n",
      "memory usage: 2.9+ MB\n"
     ]
    }
   ],
   "source": [
    "#explore the dataframe\n",
    "#print(df_record.shape)\n",
    "#print(df_record.describe)\n",
    "#print(df_record.head())\n",
    "df_record.head()\n",
    "df_record.tail()\n",
    "df_record.info()\n",
    "df_record.tail()\n",
    "\n",
    "df_record.to_csv(\"/cleaned_data/cancer_perceptions.csv\")"
   ]
  }
 ],
 "metadata": {
  "kernelspec": {
   "display_name": "Python 3",
   "language": "python",
   "name": "python3"
  },
  "language_info": {
   "codemirror_mode": {
    "name": "ipython",
    "version": 3
   },
   "file_extension": ".py",
   "mimetype": "text/x-python",
   "name": "python",
   "nbconvert_exporter": "python",
   "pygments_lexer": "ipython3",
   "version": "3.7.3"
  }
 },
 "nbformat": 4,
 "nbformat_minor": 2
}
